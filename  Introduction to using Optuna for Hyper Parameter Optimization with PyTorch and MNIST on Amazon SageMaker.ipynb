{
 "cells": [
  {
   "cell_type": "markdown",
   "metadata": {},
   "source": [
    "# Introduction to using Optuna for Hyper Parameter Optimization with PyTorch and MNIST on Amazon SageMaker"
   ]
  },
  {
   "cell_type": "markdown",
   "metadata": {},
   "source": [
    "This notebook covers how we perform HyperParameter Optimization using Optuna and its reference architecture in Amazon SageMaker.\n",
    "\n",
    "Amazon SageMaker supports various frameworks and interfaces such as TensorFlow, Apache MXNet, PyTorch, scikit-learn, Horovod, Keras, and Gluon. The service offers ways to build, train, and deploy machine learning models to all developers and data scientists. Amazon SageMaker offers managed Jupyter Notebook and JupyterLab as well as containerized environments for training and deployment. The service also offers an Automatic Model Tuning with Bayesian HPO feature by default."
   ]
  },
  {
   "cell_type": "code",
   "execution_count": null,
   "metadata": {},
   "outputs": [],
   "source": [
    "# When you do SageMaker Automatic Model Tuning, \n",
    "# Below are the sample codeset\n",
    "\n",
    "\n",
    "# First define a search space beforehand performing HPO like this\n",
    "from sagemaker.tuner import HyperparameterTuner, IntegerParameter, CategoricalParameter, ContinuousParameter\n",
    "hyperparameter_ranges = {'optimizer': CategoricalParameter(['sgd', 'Adam']),\n",
    "                         'learning_rate': ContinuousParameter(0.01, 0.2),\n",
    "                         'num_epoch': IntegerParameter(10, 50)}\n",
    "\n",
    "# Then you feed it to the HyperparameterTuner class and start training\n",
    "objective_metric_name = 'Validation-accuracy'\n",
    "metric_definitions = [{'Name': 'Validation-accuracy',\n",
    "                   \t'Regex': 'Validation-accuracy=([0-9\\\\.]+)'}]\n",
    "\n",
    "tuner = HyperparameterTuner(estimator,\n",
    "                            objective_metric_name,\n",
    "                            hyperparameter_ranges,\n",
    "                            metric_definitions,\n",
    "                            max_jobs=9,\n",
    "                            max_parallel_jobs=3)\n",
    "tuner.fit({'train': train_data_location, 'test': test_data_location})"
   ]
  },
  {
   "cell_type": "markdown",
   "metadata": {},
   "source": [
    "## (Regular Case) Using Optuna for Hyper Parameter Optimization "
   ]
  },
  {
   "cell_type": "markdown",
   "metadata": {},
   "source": [
    "You can write HPO using eager APIs in Optuna. This allows you to simplify the code when optimizing the number of the layer of neural networks. For example, if you pre-define a complicated parameter namespace to search each branch of network structure per selected number of layers, the computational load can be heavy. However, you can use Optuna in eager mode to write HPO intuitively. You can define the model as shown in the following code. The trial is the parameter set defined by Optuna. Using this parameter, you can obtain the parameters of the HPO."
   ]
  },
  {
   "cell_type": "code",
   "execution_count": null,
   "metadata": {},
   "outputs": [],
   "source": [
    "def define_model(trial):\n",
    "    # We optimize the number of layers, hidden units and dropout ratio in each layer.\n",
    "    n_layers = trial.suggest_int(\"n_layers\", 1, 3)\n",
    "    layers = []\n",
    " \n",
    "    in_features = 28 * 28\n",
    "    for i in range(n_layers):\n",
    "        out_features = trial.suggest_int(\"n_units_l{}\".format(i), 4, 128)\n",
    "        layers.append(nn.Linear(in_features, out_features))\n",
    "        layers.append(nn.ReLU())\n",
    "        p = trial.suggest_uniform(\"dropout_l{}\".format(i), 0.2, 0.5)\n",
    "        layers.append(nn.Dropout(p))\n",
    " \n",
    "        in_features = out_features\n",
    "    layers.append(nn.Linear(in_features, CLASSES))\n",
    "    layers.append(nn.LogSoftmax(dim=1))\n",
    " \n",
    "    return nn.Sequential(*layers)"
   ]
  },
  {
   "cell_type": "markdown",
   "metadata": {},
   "source": [
    "To use Optuna, you can define an objective function **objective()** inside of a training script so that it returns the value you want to maximize or minimize. See the following code:"
   ]
  },
  {
   "cell_type": "code",
   "execution_count": null,
   "metadata": {},
   "outputs": [],
   "source": [
    "def objective(trial):\n",
    " \n",
    "    # Generate the model.\n",
    "    model = define_model(trial).to(DEVICE)\n",
    " \n",
    "    # Generate the optimizers.\n",
    "    optimizer_name = trial.suggest_categorical(\"optimizer\", [\"Adam\", \"RMSprop\", \"SGD\"])\n",
    "    lr = trial.suggest_loguniform(\"lr_{}\".format(optimizer_name), 1e-5, 1e-1)\n",
    "    optimizer = getattr(optim, optimizer_name)(model.parameters(), lr=lr)\n",
    " \n",
    "    # Get the MNIST dataset.\n",
    "    train_loader, test_loader = get_mnist(args)\n",
    " \n",
    "    # Training of the model.\n",
    "    model.train()\n",
    "    for epoch in range(EPOCHS):\n",
    "        for batch_idx, (data, target) in enumerate(train_loader):\n",
    "            # Limiting training data for faster epochs.\n",
    "            if batch_idx * BATCHSIZE >= N_TRAIN_EXAMPLES:\n",
    "                break\n",
    " \n",
    "            data, target = data.view(-1, 28 * 28).to(DEVICE), target.to(DEVICE)\n",
    " \n",
    "            # Zeroing out gradient buffers.\n",
    "            optimizer.zero_grad()\n",
    "            # Performing a forward pass.\n",
    "            output = model(data)\n",
    "            # Computing negative Log Likelihood loss.\n",
    "            loss = F.nll_loss(output, target)\n",
    "            # Performing a backward pass.\n",
    "            loss.backward()\n",
    "            # Updating the weights.\n",
    "            optimizer.step()\n",
    " \n",
    "    save_model(model, '/tmp', trial.number)\n",
    "    …\n",
    "    return accuracy"
   ]
  },
  {
   "cell_type": "markdown",
   "metadata": {},
   "source": [
    "In each execution, parameters are selected by the expression **n_layers = trial.suggest_int('n_layers', 1, 3)** in the **define_model(trial)** function. You similarly define **optimizer**. This line selects the optimization method and learning rate.\n",
    "\n",
    "You can execute HPO by calling this defined objective function. See the following code:\n",
    "\n",
    "In the preceding code, study is a unit of the HPO job. It is saved in the specified relational database. For this use case, you can save it in the database using Amazon Aurora."
   ]
  },
  {
   "cell_type": "code",
   "execution_count": null,
   "metadata": {},
   "outputs": [],
   "source": [
    "study = optuna.study.create_study(storage=db, study_name=study_name, direction='maximize')\n",
    "study.optimize(objective, n_trials=100)"
   ]
  },
  {
   "cell_type": "markdown",
   "metadata": {},
   "source": [
    "## (Amazon SageMaker) Using Optuna for Hyper Parameter Optimization"
   ]
  },
  {
   "cell_type": "markdown",
   "metadata": {},
   "source": [
    "You can install Optuna with pip install optuna. Optuna stores its history in memory by default. To keep the persistent log, you can use relational databases in the backend. In this use case, you optimize in parallel execution using Amazon Sagemaker training jobs. You use an architecture with the managed database service in AWS, Aurora MySQL. You use this MySQL database to navigate through the search space during parallel execution. You launch the Aurora database inside of the closed and virtual network environment dedicated to your account. You use Amazon Virtual Private Cloud (Amazon VPC) separated from other networks in AWS. Because this database doesn’t need any connection from the public internet, you can place it inside of a private subnet in your VPC.\n",
    "\n",
    "You can launch a notebook instance of Amazon SageMaker to use an environment for Jupyter to develop models in the same VPC. Because you need to connect to this instance from the open internet, at the time of development, place this instance in a public subnet. To allow connection to the Aurora database, you need to configure the virtual firewall of the instance, the security group, and the route table to define the network traffic route appropriately. You also launch a container for training a task in the VPC and create a NAT Gateway to connect to the open internet to install libraries to the container.\n",
    "\n",
    "AWS CloudFormation templates and sample code are available in the GitHub repo to help you to create the environment in AWS. Choose Create Stack and create the environment shown in the following diagram within 10-15 minutes."
   ]
  },
  {
   "cell_type": "markdown",
   "metadata": {},
   "source": [
    "### Executing in Amazon SageMaker\n",
    "You can now connect to the notebook instance of Amazon SageMaker.\n",
    "\n",
    "- Open the Jupyter environment redirected from the AWS Management Console.\n",
    "- Open the sample code pytorch_simple.ipynb cloned from GitHub.\n",
    "- Choose the kernel conda_pytorch_p36.\n",
    "- Install a MySQL client in preparation (pip install optuna PyMySQL) in addition to Optuna."
   ]
  },
  {
   "cell_type": "markdown",
   "metadata": {},
   "source": [
    "### Preparation for training\n",
    "Amazon SageMaker uses a Docker container for training and hosting inference endpoints. For this use case, you use the existing PyTorch Docker image in the GitHub repo with requirements.txt to set up an environment because you’re merely adding Optuna to the environment. You can install it when a container starts by specifying the versions of libraries in requirements.txt:\n",
    "\n",
    "Alternatively, you could create an Amazon SageMaker Docker image with an additional library for training or inference before running the container. In that way, you reduce the overhead of starting the container. However, this method is outside of the scope of this post.\n",
    "\n",
    "The Python script (src/pytorch_simple.py) specified as an entry point runs at the time of training in Amazon SageMaker. You just need to rewrite a few parts of the training script so the Python script can run in Amazon SageMaker.\n",
    "\n",
    "In the main function, parse the hyperparameters passed at the time of training job executed, load the data from Amazon Simple Storage Service (Amazon S3), and save the model to Amazon S3 after the training by specifying the pre-defined directory obtained from the environment variables. For more information, see Using PyTorch with the SageMaker Python SDK."
   ]
  },
  {
   "cell_type": "markdown",
   "metadata": {},
   "source": [
    "### Running the training job\n",
    "Obtain the following parameters from the Outputs tab on the AWS CloudFormation console:\n",
    "\n",
    "- Private subnet ID and security group of training container\n",
    "- Endpoint of the Aurora database\n",
    "- Secret name of Secrets Manager\n",
    "\n",
    "You can use the Amazon SageMaker Python SDK to upload to Amazon S3. For this walkthrough, you call the training script created in the previous section from the notebook instance in Amazon SageMaker. Initialize PyTorch Estimator class by specifying the version of PyTorch, IAM role for execution, subnet ID, security group, and the type and number of instances. Launch the container with the fit() method. The sample notebook runs multiple training jobs parallel on Amazon SageMaker. See the following code:"
   ]
  },
  {
   "cell_type": "code",
   "execution_count": 1,
   "metadata": {},
   "outputs": [
    {
     "data": {
      "image/gif": "[encoded data removed]",
      "text/plain": [
       "<IPython.core.display.Image object>"
      ]
     },
     "execution_count": 1,
     "metadata": {},
     "output_type": "execute_result"
    }
   ],
   "source": [
    "from IPython.display import Image\n",
    "file_name1 = './img/optuna.gif'\n",
    "Image(file_name1)"
   ]
  },
  {
   "cell_type": "markdown",
   "metadata": {},
   "source": [
    "### Setup\n",
    "After you create an AWS environment by the CloudFormation template, install Optuna and MySQL connector to the notebook kernel, obtain parameters from the CloudFormation Outputs, and get DB secrets from AWS Secrets Manager. Please modify the '<your_cfn_stack_name>' to your CloudFormation stack name, which you can find at AWS Management Console."
   ]
  },
  {
   "cell_type": "code",
   "execution_count": null,
   "metadata": {},
   "outputs": [],
   "source": [
    "!pip install optuna==1.4.0\n",
    "!pip install PyMySQL==0.9.3"
   ]
  },
  {
   "cell_type": "code",
   "execution_count": null,
   "metadata": {},
   "outputs": [],
   "source": [
    "import optuna\n",
    "import PyMySQL\n",
    "# obtain parameters from CloudFormation Outputs\n",
    "stack_name = '<your_cfn_stack_name>'\n",
    "\n",
    "client = boto3.client('cloudformation')\n",
    "outputs = client.describe_stacks(StackName=stack_name)['Stacks'][0]['Outputs']\n",
    "\n",
    "host = [out['OutputValue'] for out in outputs if out['OutputKey'] == 'ClusterEndpoint'][0].split(':')[0]\n",
    "db_name = [out['OutputValue'] for out in outputs if out['OutputKey'] == 'DatabaseName'][0]\n",
    "secret_name = [out['OutputValue'] for out in outputs if out['OutputKey'] == 'DBSecretArn'][0].split(':')[-1].split('-')[0]\n",
    "\n",
    "subnets = [out['OutputValue'] for out in outputs if out['OutputKey'] == 'PrivateSubnets'][0].split(',')\n",
    "security_group_ids = [out['OutputValue'] for out in outputs if out['OutputKey'] == 'SageMakerSecurityGroup'][0].split(',')"
   ]
  },
  {
   "cell_type": "code",
   "execution_count": null,
   "metadata": {},
   "outputs": [],
   "source": [
    "# Call AWS Secrets Manager\n",
    "from src.secrets import get_secret\n",
    "region_name = boto3.session.Session().region_name\n",
    "secret = get_secret(secret_name, region_name)\n",
    "\n",
    "# PyMySQL https://docs.sqlalchemy.org/en/13/dialects/mysql.html#module-sqlalchemy.dialects.mysql.pymysql   \n",
    "db = 'mysql+pymysql://{}:{}@{}/{}'.format(secret['username'], secret['password'], host, db_name)"
   ]
  },
  {
   "cell_type": "code",
   "execution_count": null,
   "metadata": {},
   "outputs": [],
   "source": [
    "sagemaker_session   = sagemaker.Session()\n",
    "bucket = sagemaker_session.default_bucket()                     \n",
    "prefix = 'optuna'\n",
    "region = boto3.Session().region_name\n",
    "role = 'arn:aws:iam::570447867175:role/SageMakerNotebookRole' # pass your IAM role name\n",
    "\n",
    "print('Sagemaker session :', sagemaker_session)\n",
    "print('S3 bucket :', bucket)\n",
    "print('Prefix :', prefix)\n",
    "print('Region selected :', region)\n",
    "print('IAM role :', role)"
   ]
  },
  {
   "cell_type": "markdown",
   "metadata": {},
   "source": [
    "## Trainig a model"
   ]
  },
  {
   "cell_type": "markdown",
   "metadata": {},
   "source": [
    "We demonstrate an Optuna example [pytorch_simple.py](https://github.com/optuna/optuna/blob/master/examples/pytorch_simple.py) migrated to Amazon SageMaker"
   ]
  },
  {
   "cell_type": "code",
   "execution_count": null,
   "metadata": {},
   "outputs": [],
   "source": [
    "# create study in RDS/Aurora\n",
    "study_name = 'pytorch-simple'\n",
    "optuna.study.create_study(storage=db, study_name=study_name, direction='maximize', load_if_exists=True)"
   ]
  },
  {
   "cell_type": "code",
   "execution_count": null,
   "metadata": {},
   "outputs": [],
   "source": [
    "# data preparation \n",
    "from torchvision import datasets\n",
    "from torchvision import transforms\n",
    "\n",
    "dataset = datasets.MNIST(root='./data/MNIST/', train=True, download=True, transform=transforms.ToTensor())"
   ]
  },
  {
   "cell_type": "code",
   "execution_count": null,
   "metadata": {},
   "outputs": [],
   "source": [
    "input_data = sagemaker_session.upload_data(path='./data/MNIST/',key_prefix='pytorch_mnist')"
   ]
  },
  {
   "cell_type": "code",
   "execution_count": null,
   "metadata": {},
   "outputs": [],
   "source": [
    "# setup SageMaker PyTorch estimator\n",
    "from sagemaker.pytorch.estimator import PyTorch\n",
    " \n",
    "pytorch_estimator = PyTorch(entry_point='./tools/pytorch_simple.py',\n",
    "                            #source_dir=\"tools\",\n",
    "                            framework_version='1.5.0',\n",
    "                            role=role,\n",
    "                            subnets=subnets,\n",
    "                            security_group_ids=security_group_ids,\n",
    "                            train_instance_count=1,\n",
    "                            train_instance_type='ml.c4.xlarge',\n",
    "                            hyperparameters={\n",
    "                                'host': host,\n",
    "                                'db-name': db_name,\n",
    "                                'db-secret': secret_name,\n",
    "                                'study-name': study_name,\n",
    "                                'region-name': region_name,\n",
    "                                'n-trials': 25\n",
    "                            })"
   ]
  },
  {
   "cell_type": "code",
   "execution_count": null,
   "metadata": {},
   "outputs": [],
   "source": [
    "# Hyper Parameter Optimization in parallel\n",
    "max_parallel_jobs = 4\n",
    "for j in range(max_parallel_jobs-1):\n",
    "    pytorch_estimator.fit({'train': train_input, 'test': test_input}, wait=False)\n",
    "pytorch_estimator.fit({'train': train_input, 'test': test_input})"
   ]
  },
  {
   "cell_type": "markdown",
   "metadata": {},
   "source": [
    "You can see the console output during training in Jupyter Notebook. Models are saved every time in the objective() function. Only trials that are optimal in each training job are moved to model_dir and stored in Amazon S3. The Amazon SageMaker training job ID is recorded in the user attribute of the trial for retrieval. This makes it easy to get the Amazon S3 object key where the best model is stored when the inference endpoint is deployed.\n",
    "\n",
    "You can visualize the result when the training job is complete. Retrieve the result as pandas.DataFrame. See the following code:"
   ]
  },
  {
   "cell_type": "code",
   "execution_count": null,
   "metadata": {},
   "outputs": [],
   "source": [
    "study = optuna.study.load_study(study_name=study_name, storage=db)\n",
    "df = study.trials_dataframe()\n",
    "\n",
    "ax = df['value'].plot()\n",
    "ax.set_xlabel('Number of trials')\n",
    "ax.set_ylabel('Validation accuracy')"
   ]
  },
  {
   "cell_type": "markdown",
   "metadata": {},
   "source": [
    "Through repeated trials, you can search for better hyperparameters and confirm that the accuracy has improved"
   ]
  },
  {
   "cell_type": "markdown",
   "metadata": {},
   "source": [
    "## Creating the inference endpoint"
   ]
  },
  {
   "cell_type": "code",
   "execution_count": null,
   "metadata": {},
   "outputs": [],
   "source": [
    "from sagemaker.pytorch import PyTorchModel\n",
    " \n",
    "best_model_data = '{}/{}/output/model.tar.gz'.format(pytorch_estimator.output_path, study.best_trial.user_attrs['job_name'])\n",
    "best_model = PyTorchModel(model_data=best_model_data,\n",
    "                          role=role,\n",
    "                          entry_point='./tools/pytorch_simple.py',\n",
    "                          #source_dir=\"src\",\n",
    "                          framework_version='1.5.0'\n",
    "                         )\n",
    " \n",
    "predictor = best_model.deploy(instance_type=\"ml.p2.xlarge\", initial_instance_count=1)"
   ]
  },
  {
   "cell_type": "markdown",
   "metadata": {},
   "source": [
    "By sending images to the endpoint for trial, you can get the result of the inference. See the following code:"
   ]
  },
  {
   "cell_type": "code",
   "execution_count": null,
   "metadata": {},
   "outputs": [],
   "source": [
    "import torch\n",
    "\n",
    "test_loader = torch.utils.data.DataLoader(\n",
    "        datasets.MNIST('data', train=False, transform=transforms.ToTensor()),\n",
    "        batch_size=5,\n",
    "        shuffle=True,\n",
    "    )\n",
    " \n",
    "for batch_idx, (data, target) in enumerate(test_loader):\n",
    "    data, target = data.view(-1, 28 * 28).to('cpu'), target.to('cpu')\n",
    "   \n",
    "    prediction = predictor.predict(data)\n",
    "    predicted_label = prediction.argmax(axis=1)\n",
    "    print('Pred label: {}'.format(predicted_label))\n",
    "    print('True label: {}'.format(target.numpy()))\n",
    "    break"
   ]
  },
  {
   "cell_type": "markdown",
   "metadata": {},
   "source": [
    "## Close Endpoint"
   ]
  },
  {
   "cell_type": "code",
   "execution_count": null,
   "metadata": {},
   "outputs": [],
   "source": [
    "predictor.delete_endpoint()"
   ]
  },
  {
   "cell_type": "code",
   "execution_count": null,
   "metadata": {},
   "outputs": [],
   "source": []
  },
  {
   "cell_type": "markdown",
   "metadata": {},
   "source": [
    "Reference:\n",
    "https://github.com/aws-samples/amazon-sagemaker-optuna-hpo-blog/blob/master/examples/pytorch_simple/pytorch_simple.ipynb\n",
    "\n",
    "https://aws.amazon.com/ko/blogs/machine-learning/implementing-hyperparameter-optimization-with-optuna-on-amazon-sagemaker/\n",
    "\n",
    "https://github.com/aws/sagemaker-pytorch-training-toolkit"
   ]
  }
 ],
 "metadata": {
  "kernelspec": {
   "display_name": "Python 3",
   "language": "python",
   "name": "python3"
  },
  "language_info": {
   "codemirror_mode": {
    "name": "ipython",
    "version": 3
   },
   "file_extension": ".py",
   "mimetype": "text/x-python",
   "name": "python",
   "nbconvert_exporter": "python",
   "pygments_lexer": "ipython3",
   "version": "3.7.6"
  }
 },
 "nbformat": 4,
 "nbformat_minor": 4
}
